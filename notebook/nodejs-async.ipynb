{
 "cells": [
  {
   "cell_type": "markdown",
   "metadata": {},
   "source": [
    "# Node.js 异步编程"
   ]
  },
  {
   "cell_type": "markdown",
   "metadata": {},
   "source": [
    "Node.js 中的 API 有同步 API 和异步 API 两种：\n",
    "\n",
    "- 同步 API：只有当前 API 执行完成后，才能继续执行下一个 API\n",
    "- 异步 API：当前 API 的执行不会阻塞后续代码的执行\n",
    "\n",
    "如下："
   ]
  },
  {
   "cell_type": "code",
   "execution_count": 1,
   "metadata": {
    "ExecuteTime": {
     "end_time": "2020-09-29T23:37:08.500386Z",
     "start_time": "2020-09-29T23:37:08.483Z"
    }
   },
   "outputs": [
    {
     "name": "stdout",
     "output_type": "stream",
     "text": [
      "before\n",
      "after\n",
      "before\n",
      "after\n",
      "last\n"
     ]
    }
   ],
   "source": [
    "// 同步 API\n",
    "console.log('before');\n",
    "console.log('after');\n",
    "\n",
    "// 异步 API\n",
    "console.log('before');\n",
    "setTimeout(() => {\n",
    "    console.log('last');\n",
    "}, 2000);\n",
    "console.log('after');"
   ]
  },
  {
   "cell_type": "markdown",
   "metadata": {},
   "source": [
    "Node.js 会从上到下依次执行代码，遇到同步 API 把它拿到**同步代码执行区**中去执行，遇到异步 API 它不会去执行，而是把它放到**异步代码执行区**中，当代码中所有的同步代码都执行完之后，再到异步代码执行区中去依次执行代码，当异步代码执行完之后，系统会去**回调函数队列**中去找这个异步 API 所对应的回调函数，然后把回调函数放到同步代码执行区中再去执行它。"
   ]
  },
  {
   "cell_type": "markdown",
   "metadata": {},
   "source": [
    "同步 API 可以从返回值中拿到 API 执行的结果，但是异步 API 是不可以的，如下："
   ]
  },
  {
   "cell_type": "code",
   "execution_count": 2,
   "metadata": {
    "ExecuteTime": {
     "end_time": "2020-09-29T23:48:59.333228Z",
     "start_time": "2020-09-29T23:48:59.315Z"
    }
   },
   "outputs": [
    {
     "name": "stdout",
     "output_type": "stream",
     "text": [
      "30\n",
      "undefined\n"
     ]
    }
   ],
   "source": [
    "// 同步\n",
    "function sum (n1, n2) {\n",
    "    return n1 + n2;\n",
    "}\n",
    "const result = sum(10, 20);\n",
    "console.log(result);\n",
    "\n",
    "// 异步\n",
    "function getMsg () {\n",
    "    setTimeout(() => {\n",
    "        return {msg: 'Hello Node.js'};\n",
    "    }, 2000);\n",
    "}\n",
    "const msg = getMsg();\n",
    "console.log(msg);"
   ]
  },
  {
   "cell_type": "markdown",
   "metadata": {},
   "source": [
    "异步 API 可以通过回调函数拿到 API 执行结果。"
   ]
  },
  {
   "cell_type": "markdown",
   "metadata": {},
   "source": [
    "## 回调函数"
   ]
  },
  {
   "cell_type": "markdown",
   "metadata": {},
   "source": [
    "回调函数即自己定义函数让别人去调用。如下："
   ]
  },
  {
   "cell_type": "code",
   "execution_count": 3,
   "metadata": {
    "ExecuteTime": {
     "end_time": "2020-09-29T23:54:42.586423Z",
     "start_time": "2020-09-29T23:54:42.573Z"
    }
   },
   "outputs": [
    {
     "name": "stdout",
     "output_type": "stream",
     "text": [
      "callback函数被调用了\n",
      "123\n"
     ]
    }
   ],
   "source": [
    "function getData (callback) {\n",
    "    callback('123');\n",
    "}\n",
    "\n",
    "getData((n) => {\n",
    "    console.log('callback函数被调用了');\n",
    "    console.log(n);\n",
    "})"
   ]
  },
  {
   "cell_type": "markdown",
   "metadata": {},
   "source": [
    "让我们使用回调函数来接收上一段代码的执行结果，如下："
   ]
  },
  {
   "cell_type": "code",
   "execution_count": 4,
   "metadata": {
    "ExecuteTime": {
     "end_time": "2020-09-29T23:57:00.816946Z",
     "start_time": "2020-09-29T23:57:00.807Z"
    }
   },
   "outputs": [
    {
     "name": "stdout",
     "output_type": "stream",
     "text": [
      "{ msg: 'Hello Node.js' }\n"
     ]
    }
   ],
   "source": [
    "function getMsg (callback) {\n",
    "    setTimeout(() => {\n",
    "        callback({msg: 'Hello Node.js'});\n",
    "    }, 2000);\n",
    "}\n",
    "getMsg((data) => {\n",
    "    console.log(data);\n",
    "});"
   ]
  },
  {
   "cell_type": "markdown",
   "metadata": {},
   "source": [
    "如果异步 API 后面代码的执行依赖当前异步 API 的执行结果，但实际上后续代码在执行的时候异步 API 还没有返回结果，这个问题要怎么解决呢？"
   ]
  },
  {
   "cell_type": "code",
   "execution_count": 5,
   "metadata": {},
   "outputs": [
    {
     "name": "stdout",
     "output_type": "stream",
     "text": [
      "文件读取结果\n"
     ]
    }
   ],
   "source": [
    "const fs1 = require('fs');\n",
    "\n",
    "fs.readFile('../README.md', 'utf8', (err, result) => {});\n",
    "console.log('文件读取结果');"
   ]
  },
  {
   "cell_type": "markdown",
   "metadata": {},
   "source": [
    "我们希望文件读取完成之后打印文件读取结果，一个显然的方法是把后续代码放到异步 API 的回调函数里，但如果要**依次**读取 A 文件、B 文件、C 文件，这种方法就会导致回调层次嵌套太多，这被称为**回调地狱（callback hell）**。如下："
   ]
  },
  {
   "cell_type": "code",
   "execution_count": 6,
   "metadata": {},
   "outputs": [
    {
     "name": "stdout",
     "output_type": "stream",
     "text": [
      "JavaScript 基础\n",
      "ES5 语法\n",
      "ES6 语法\n"
     ]
    }
   ],
   "source": [
    "const fs2 = require('fs');\n",
    "\n",
    "fs2.readFile('js.ipynb', 'utf8', (err, result1) => {\n",
    "  console.log(result1.slice(212, 225));\n",
    "  fs2.readFile('es5.ipynb', 'utf8', (err, result2) => {\n",
    "    console.log(result2.slice(87, 93));\n",
    "    fs2.readFile('es6.ipynb', 'utf8', (err, result3) => {\n",
    "      console.log(result3.slice(87, 93));\n",
    "    })\n",
    "  })\n",
    "})"
   ]
  },
  {
   "cell_type": "markdown",
   "metadata": {},
   "source": [
    "## promise"
   ]
  },
  {
   "cell_type": "markdown",
   "metadata": {},
   "source": [
    "ES6 中提供的 `promise` 就是为了解决回调地狱问题的，`promise` 实际上是一个构造函数，如下："
   ]
  },
  {
   "cell_type": "code",
   "execution_count": 7,
   "metadata": {},
   "outputs": [
    {
     "name": "stdout",
     "output_type": "stream",
     "text": [
      "{ name: '张三' }\n"
     ]
    }
   ],
   "source": [
    "let promise = new Promise((resolve, reject) => {\n",
    "  setTimeout(() => {\n",
    "    if(true){\n",
    "      resolve({name: '张三'});\n",
    "    }else{\n",
    "      reject('失败了');\n",
    "    }\n",
    "  }, 2000);\n",
    "})\n",
    "\n",
    "promise.then(result => console.log(result)).catch(err => console.log(err))"
   ]
  },
  {
   "cell_type": "markdown",
   "metadata": {},
   "source": [
    "让我们使用 promise 来改写上面的依次读取文件的例子，如下："
   ]
  },
  {
   "cell_type": "code",
   "execution_count": 8,
   "metadata": {},
   "outputs": [
    {
     "name": "stdout",
     "output_type": "stream",
     "text": [
      "JavaScript 基础\n",
      "ES5 语法\n",
      "ES6 语法\n"
     ]
    }
   ],
   "source": [
    "const fs3 = require('fs');\n",
    "\n",
    "function p1(){\n",
    "  return new Promise((resolve, reject) => {\n",
    "    fs3.readFile('js.ipynb', 'utf8', (err, result) => {\n",
    "      if(err != null){\n",
    "        reject(err)\n",
    "      }else{\n",
    "        resolve(result.slice(212, 225))\n",
    "      }\n",
    "    })\n",
    "  })\n",
    "}\n",
    "\n",
    "function p2(){\n",
    "  return new Promise((resolve, reject) => {\n",
    "    fs3.readFile('es5.ipynb', 'utf8', (err, result) => {\n",
    "      if(err != null){\n",
    "        reject(err)\n",
    "      }else{\n",
    "        resolve(result.slice(87, 93))\n",
    "      }\n",
    "    })\n",
    "  })\n",
    "}\n",
    "\n",
    "function p3(){\n",
    "  return new Promise((resolve, reject) => {\n",
    "    fs3.readFile('es6.ipynb', 'utf8', (err, result) => {\n",
    "      if(err != null){\n",
    "        reject(err)\n",
    "      }else{\n",
    "        resolve(result.slice(87, 93))\n",
    "      }\n",
    "    })\n",
    "  })\n",
    "}\n",
    "\n",
    "p1().then(result => {\n",
    "  console.log(result);\n",
    "  return p2();\n",
    "}).then(result => {\n",
    "  console.log(result);\n",
    "  return p3();\n",
    "}).then(result => {\n",
    "  console.log(result);\n",
    "})"
   ]
  },
  {
   "cell_type": "markdown",
   "metadata": {},
   "source": [
    "## async await"
   ]
  },
  {
   "cell_type": "markdown",
   "metadata": {},
   "source": [
    "ES7 引入"
   ]
  },
  {
   "cell_type": "markdown",
   "metadata": {},
   "source": [
    "让我们使用 async 和 await 来改写上面的依次读取文件的例子，如下："
   ]
  },
  {
   "cell_type": "code",
   "execution_count": 9,
   "metadata": {},
   "outputs": [
    {
     "name": "stdout",
     "output_type": "stream",
     "text": [
      "JavaScript 基础\n",
      "ES5 语法\n",
      "ES6 语法\n"
     ]
    }
   ],
   "source": [
    "const fs4 = require('fs');\n",
    "const promisify = require('util').promisify;\n",
    "const readFile = promisify(fs4.readFile);\n",
    "\n",
    "async function run(){\n",
    "  let r1 = await readFile('js.ipynb', 'utf8');\n",
    "  let r2 = await readFile('es5.ipynb', 'utf8');\n",
    "  let r3 = await readFile('es6.ipynb', 'utf8');\n",
    "  console.log(r1.slice(212, 225));\n",
    "  console.log(r2.slice(87, 93));\n",
    "  console.log(r3.slice(87, 93));\n",
    "}\n",
    "\n",
    "run();"
   ]
  },
  {
   "cell_type": "code",
   "execution_count": null,
   "metadata": {},
   "outputs": [],
   "source": []
  }
 ],
 "metadata": {
  "kernelspec": {
   "display_name": "Javascript (Node.js)",
   "language": "javascript",
   "name": "javascript"
  },
  "language_info": {
   "file_extension": ".js",
   "mimetype": "application/javascript",
   "name": "javascript",
   "version": "12.18.4"
  }
 },
 "nbformat": 4,
 "nbformat_minor": 4
}
