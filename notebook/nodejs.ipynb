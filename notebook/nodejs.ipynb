{
 "cells": [
  {
   "cell_type": "markdown",
   "metadata": {},
   "source": [
    "# Node.js 基础"
   ]
  },
  {
   "cell_type": "markdown",
   "metadata": {},
   "source": [
    "## `exports` 与 `module.exports`"
   ]
  },
  {
   "cell_type": "markdown",
   "metadata": {},
   "source": [
    "`module.exports` 初始值为一个空对象 `{}`\n",
    "\n",
    "`exports` 是指向的 `module.exports` 的引用\n",
    "\n",
    "`require()` 返回的是 `module.exports` 而不是 `exports`\n",
    "\n",
    "如果修改了 `module.exports` 指向的地址，则也要相应的更改 `exports` 指向的地址，如下："
   ]
  },
  {
   "cell_type": "code",
   "execution_count": 3,
   "metadata": {
    "ExecuteTime": {
     "end_time": "2020-09-29T15:36:10.023957Z",
     "start_time": "2020-09-29T15:36:10.013Z"
    }
   },
   "outputs": [
    {
     "data": {
      "text/plain": [
       "{ a: 1 }"
      ]
     },
     "execution_count": 3,
     "metadata": {},
     "output_type": "execute_result"
    }
   ],
   "source": [
    "somethings = {a: 1};\n",
    "exports = module.exports = somethings;"
   ]
  },
  {
   "cell_type": "code",
   "execution_count": null,
   "metadata": {},
   "outputs": [],
   "source": []
  }
 ],
 "metadata": {
  "kernelspec": {
   "display_name": "Javascript (Node.js)",
   "language": "javascript",
   "name": "javascript"
  },
  "language_info": {
   "file_extension": ".js",
   "mimetype": "application/javascript",
   "name": "javascript",
   "version": "8.9.3"
  }
 },
 "nbformat": 4,
 "nbformat_minor": 4
}
