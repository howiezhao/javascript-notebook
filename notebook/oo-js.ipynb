{
 "cells": [
  {
   "cell_type": "markdown",
   "metadata": {},
   "source": [
    "# 面向对象的 JavaScript"
   ]
  },
  {
   "cell_type": "markdown",
   "metadata": {},
   "source": [
    "## prototype"
   ]
  },
  {
   "cell_type": "markdown",
   "metadata": {},
   "source": [
    "为了解决从原型对象生成实例的问题，JavaScript 提供了一个构造函数（Constructor）模式。\n",
    "\n",
    "所谓\"构造函数\"，其实就是一个普通函数，但是内部使用了 `this` 变量。对构造函数使用 `new` 运算符，就能生成实例，并且 `this` 变量会绑定在实例对象上。如下："
   ]
  },
  {
   "cell_type": "code",
   "execution_count": 1,
   "metadata": {
    "ExecuteTime": {
     "end_time": "2020-09-29T15:58:17.723418Z",
     "start_time": "2020-09-29T15:58:17.696Z"
    }
   },
   "outputs": [
    {
     "name": "stdout",
     "output_type": "stream",
     "text": [
      "大毛\n",
      "true\n",
      "true\n"
     ]
    }
   ],
   "source": [
    "// DOG 构造函数，表示狗对象的原型。\n",
    "function Dog(name){\n",
    "  this.name = name;\n",
    "};\n",
    "\n",
    "const dogA = new Dog('大毛');\n",
    "console.log(dogA.name); // 大毛\n",
    "console.log(dogA.constructor === Dog);  // true\n",
    "console.log(dogA instanceof Dog); // true"
   ]
  },
  {
   "cell_type": "markdown",
   "metadata": {},
   "source": [
    "用构造函数生成实例对象，有一个缺点，那就是无法共享属性和方法，如下："
   ]
  },
  {
   "cell_type": "code",
   "execution_count": 2,
   "metadata": {
    "ExecuteTime": {
     "end_time": "2020-09-29T15:58:22.045418Z",
     "start_time": "2020-09-29T15:58:22.029Z"
    }
   },
   "outputs": [
    {
     "name": "stdout",
     "output_type": "stream",
     "text": [
      "犬科\n",
      "false\n"
     ]
    }
   ],
   "source": [
    "function Dog(name){\n",
    "  this.name = name;\n",
    "  this.species = '犬科';\n",
    "};\n",
    "\n",
    "const dogB = new Dog('大毛');\n",
    "const dogC = new Dog('二毛');\n",
    "\n",
    "dogA.species = '猫科';\n",
    "console.log(dogB.species); // 显示\"犬科\"，不受 dogA 的影响\n",
    "console.log(dogB.species === dogA.species);  // false"
   ]
  },
  {
   "cell_type": "markdown",
   "metadata": {},
   "source": [
    "要解决这个问题，可以为构造函数设置一个 `prototype` 属性，这个属性包含一个对象（以下简称\"prototype对象\"），所有实例对象需要共享的属性和方法，都放在这个对象里面；那些不需要共享的属性和方法，就放在构造函数里面。\n",
    "\n",
    "实例对象一旦创建，将自动引用 `prototype` 对象的属性和方法。也就是说，实例对象的属性和方法，分成两种，一种是本地的，另一种是引用的。如下："
   ]
  },
  {
   "cell_type": "code",
   "execution_count": 4,
   "metadata": {
    "ExecuteTime": {
     "end_time": "2020-09-29T16:00:32.696977Z",
     "start_time": "2020-09-29T16:00:32.683Z"
    }
   },
   "outputs": [
    {
     "name": "stdout",
     "output_type": "stream",
     "text": [
      "犬科\n",
      "犬科\n",
      "猫科\n",
      "猫科\n",
      "true\n",
      "true\n",
      "true\n",
      "false\n",
      "true\n",
      "true\n"
     ]
    }
   ],
   "source": [
    "function Dog(name){\n",
    "  this.name = name;\n",
    "};\n",
    "\n",
    "Dog.prototype = { species : '犬科' };\n",
    "\n",
    "const dogD = new Dog('大毛');\n",
    "const dogE = new Dog('二毛');\n",
    "\n",
    "console.log(dogD.species); // 犬科\n",
    "console.log(dogE.species); // 犬科\n",
    "\n",
    "Dog.prototype.species = '猫科';\n",
    "\n",
    "console.log(dogD.species); // 猫科\n",
    "console.log(dogE.species); // 猫科\n",
    "console.log(dogD.species === dogE.species)  // true\n",
    "console.log(Dog.prototype.isPrototypeOf(dogD));  // true\n",
    "console.log(dogD.hasOwnProperty(\"name\"));  // true\n",
    "console.log(dogD.hasOwnProperty(\"species\"));  // false\n",
    "console.log(\"name\" in dogD);  // true\n",
    "console.log(\"species\" in dogD);  // true"
   ]
  },
  {
   "cell_type": "markdown",
   "metadata": {},
   "source": [
    "由于所有的实例对象共享同一个 `prototype` 对象，那么从外界看起来，`prototype` 对象就好像是实例对象的原型，而实例对象则好像\"继承\"了 `prototype` 对象一样。这就是 Javascript 继承机制的设计思想。"
   ]
  },
  {
   "cell_type": "markdown",
   "metadata": {},
   "source": [
    "## 参考"
   ]
  },
  {
   "cell_type": "markdown",
   "metadata": {},
   "source": [
    "- [Javascript继承机制的设计思想](http://www.ruanyifeng.com/blog/2011/06/designing_ideas_of_inheritance_mechanism_in_javascript.html)\n",
    "- [Javascript 面向对象编程（一）：封装](http://www.ruanyifeng.com/blog/2010/05/object-oriented_javascript_encapsulation.html)\n",
    "- [Javascript面向对象编程（二）：构造函数的继承](http://www.ruanyifeng.com/blog/2010/05/object-oriented_javascript_inheritance.html)\n",
    "- [Javascript面向对象编程（三）：非构造函数的继承](http://www.ruanyifeng.com/blog/2010/05/object-oriented_javascript_inheritance_continued.html)"
   ]
  },
  {
   "cell_type": "code",
   "execution_count": null,
   "metadata": {},
   "outputs": [],
   "source": []
  }
 ],
 "metadata": {
  "kernelspec": {
   "display_name": "Javascript (Node.js)",
   "language": "javascript",
   "name": "javascript"
  },
  "language_info": {
   "file_extension": ".js",
   "mimetype": "application/javascript",
   "name": "javascript",
   "version": "8.9.3"
  }
 },
 "nbformat": 4,
 "nbformat_minor": 4
}
