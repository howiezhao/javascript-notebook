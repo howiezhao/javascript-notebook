{
 "cells": [
  {
   "cell_type": "markdown",
   "metadata": {},
   "source": [
    "# 面向对象的 JavaScript"
   ]
  },
  {
   "cell_type": "markdown",
   "metadata": {},
   "source": [
    "JavaScript 靠\"原型链\"（prototype chain）模式，来实现继承。\n",
    "\n",
    "JavaScript 在一开始设计时并没有引入类（class）的概念，但是它引入了 `new` 命令，用来从原型对象生成一个实例对象。在 Javascript 中，`new` 命令后面跟的不是类，而是构造函数。\n",
    "\n",
    "所谓\"构造函数\"，其实就是一个普通函数，但是内部使用了 `this` 变量。对构造函数使用 `new` 运算符，就能生成实例，并且 `this` 变量会绑定在实例对象上。如下："
   ]
  },
  {
   "cell_type": "code",
   "execution_count": 1,
   "metadata": {
    "ExecuteTime": {
     "end_time": "2020-09-29T15:58:17.723418Z",
     "start_time": "2020-09-29T15:58:17.696Z"
    }
   },
   "outputs": [
    {
     "name": "stdout",
     "output_type": "stream",
     "text": [
      "大毛\n",
      "true\n",
      "true\n"
     ]
    }
   ],
   "source": [
    "// Dog 构造函数，表示狗对象的原型。\n",
    "function Dog(name){\n",
    "  this.name = name;\n",
    "};\n",
    "\n",
    "const dogA = new Dog('大毛');\n",
    "console.log(dogA.name);  // 大毛\n",
    "// 这时 dogA 会自动含有一个 constructor 属性，指向它的构造函数。\n",
    "console.log(dogA.constructor === Dog);  // true\n",
    "// instanceof 运算符，验证原型对象与实例对象之间的关系。\n",
    "console.log(dogA instanceof Dog);  // true"
   ]
  },
  {
   "cell_type": "markdown",
   "metadata": {},
   "source": [
    "## prototype"
   ]
  },
  {
   "cell_type": "markdown",
   "metadata": {},
   "source": [
    "用构造函数生成实例对象，有一个缺点，那就是无法共享属性和方法，如下："
   ]
  },
  {
   "cell_type": "code",
   "execution_count": 1,
   "metadata": {
    "ExecuteTime": {
     "end_time": "2020-09-29T15:58:22.045418Z",
     "start_time": "2020-09-29T15:58:22.029Z"
    }
   },
   "outputs": [
    {
     "name": "stdout",
     "output_type": "stream",
     "text": [
      "犬科\n",
      "false\n"
     ]
    }
   ],
   "source": [
    "function Dog(name){\n",
    "  this.name = name;\n",
    "  this.species = '犬科';\n",
    "};\n",
    "\n",
    "const dogB = new Dog('大毛');\n",
    "const dogC = new Dog('二毛');\n",
    "\n",
    "dogB.species = '猫科';\n",
    "console.log(dogC.species);  // 显示\"犬科\"，不受 dogB 的影响\n",
    "console.log(dogB.species === dogC.species);  // false"
   ]
  },
  {
   "cell_type": "markdown",
   "metadata": {},
   "source": [
    "要解决这个问题，可以为构造函数设置一个 `prototype` 属性，这个属性包含一个对象（以下简称\"prototype对象\"），所有实例对象需要共享的属性和方法，都放在这个对象里面；那些不需要共享的属性和方法，就放在构造函数里面。\n",
    "\n",
    "实例对象一旦创建，将自动引用 `prototype` 对象的属性和方法。也就是说，实例对象的属性和方法，分成两种，一种是本地的，另一种是引用的。如下："
   ]
  },
  {
   "cell_type": "code",
   "execution_count": 2,
   "metadata": {
    "ExecuteTime": {
     "end_time": "2020-09-29T16:00:32.696977Z",
     "start_time": "2020-09-29T16:00:32.683Z"
    }
   },
   "outputs": [
    {
     "name": "stdout",
     "output_type": "stream",
     "text": [
      "犬科\n",
      "犬科\n",
      "猫科\n",
      "猫科\n",
      "true\n",
      "true\n",
      "true\n",
      "false\n",
      "true\n",
      "true\n"
     ]
    }
   ],
   "source": [
    "function Dog(name){\n",
    "  this.name = name;\n",
    "};\n",
    "\n",
    "Dog.prototype = { species : '犬科' };\n",
    "\n",
    "const dogD = new Dog('大毛');\n",
    "const dogE = new Dog('二毛');\n",
    "\n",
    "console.log(dogD.species);  // 犬科\n",
    "console.log(dogE.species);  // 犬科\n",
    "\n",
    "Dog.prototype.species = '猫科';\n",
    "\n",
    "console.log(dogD.species);  // 猫科\n",
    "console.log(dogE.species);  // 猫科\n",
    "console.log(dogD.species === dogE.species)  // true\n",
    "// isPrototypeOf() 方法用来判断，某个 proptotype 对象和某个实例之间的关系。\n",
    "console.log(Dog.prototype.isPrototypeOf(dogD));  // true\n",
    "// hasOwnProperty() 方法用来判断某一个属性到底是本地属性，还是继承自 prototype 对象的属性。\n",
    "console.log(dogD.hasOwnProperty(\"name\"));  // true\n",
    "console.log(dogD.hasOwnProperty(\"species\"));  // false\n",
    "// in 运算符可以用来判断，某个实例是否含有某个属性，不管是不是本地属性。\n",
    "console.log(\"name\" in dogD);  // true\n",
    "console.log(\"species\" in dogD);  // true"
   ]
  },
  {
   "cell_type": "markdown",
   "metadata": {},
   "source": [
    "由于所有的实例对象共享同一个 `prototype` 对象，那么从外界看起来，`prototype` 对象就好像是实例对象的原型，而实例对象则好像\"继承\"了 `prototype` 对象一样。这就是 Javascript 继承机制的设计思想。"
   ]
  },
  {
   "cell_type": "markdown",
   "metadata": {},
   "source": [
    "## 继承"
   ]
  },
  {
   "cell_type": "markdown",
   "metadata": {},
   "source": [
    "假设我们有如下两个构造函数，如何使 `Cat` 继承 `Animal` 呢？"
   ]
  },
  {
   "cell_type": "code",
   "execution_count": 3,
   "metadata": {},
   "outputs": [],
   "source": [
    "function Animal(){\n",
    "  this.species = \"动物\";\n",
    "}\n",
    "\n",
    "function Cat(name, color){\n",
    "  this.name = name;\n",
    "  this.color = color;\n",
    "}"
   ]
  },
  {
   "cell_type": "markdown",
   "metadata": {},
   "source": [
    "### 利用空对象作为中介以实现继承"
   ]
  },
  {
   "cell_type": "markdown",
   "metadata": {},
   "source": [
    "由于 `Animal` 对象中，不变的属性都可以直接写入 `Animal.prototype`。所以，我们也可以让 `Cat()` 跳过 `Animal()`，直接继承 `Animal.prototype`。如下："
   ]
  },
  {
   "cell_type": "code",
   "execution_count": 8,
   "metadata": {},
   "outputs": [
    {
     "name": "stdout",
     "output_type": "stream",
     "text": [
      "动物\n"
     ]
    }
   ],
   "source": [
    "function Animal(){\n",
    "  this.species = \"动物\";\n",
    "}\n",
    "\n",
    "function Cat(name,color){\n",
    "  this.name = name;\n",
    "  this.color = color;\n",
    "}\n",
    "\n",
    "\n",
    "// 首先，把 Animal 的所有不变属性，都放到它的 prototype 对象上。\n",
    "function Animal(){}\n",
    "Animal.prototype.species = \"动物\";\n",
    "\n",
    "// 此函数利用 `F` 空对象作为中介以实现继承。\n",
    "function extend(Child, Parent) {\n",
    "  let F = function(){};\n",
    "  F.prototype = Parent.prototype;\n",
    "  Child.prototype = new F();\n",
    "  Child.prototype.constructor = Child;\n",
    "  // 为子对象设一个 uber 属性，这个属性直接指向父对象的 prototype 属性。\n",
    "  // 这等于在子对象上打开一条通道，可以直接调用父对象的方法。\n",
    "  // 这一行放在这里，只是为了实现继承的完备性，纯属备用性质。\n",
    "  Child.uber = Parent.prototype;\n",
    "}\n",
    "\n",
    "extend(Cat, Animal);\n",
    "let cat1 = new Cat(\"大毛\",\"黄色\");\n",
    "console.log(cat1.species); // 动物"
   ]
  },
  {
   "cell_type": "markdown",
   "metadata": {},
   "source": [
    "### 拷贝继承"
   ]
  },
  {
   "cell_type": "markdown",
   "metadata": {},
   "source": [
    "简单说，把父对象的所有属性和方法，拷贝进子对象，也能够实现继承。如下："
   ]
  },
  {
   "cell_type": "code",
   "execution_count": 7,
   "metadata": {},
   "outputs": [
    {
     "name": "stdout",
     "output_type": "stream",
     "text": [
      "动物\n"
     ]
    }
   ],
   "source": [
    "function Animal(){\n",
    "  this.species = \"动物\";\n",
    "}\n",
    "\n",
    "function Cat(name,color){\n",
    "  this.name = name;\n",
    "  this.color = color;\n",
    "}\n",
    "\n",
    "\n",
    "// 首先，把 Animal 的所有不变属性，都放到它的 prototype 对象上。\n",
    "function Animal(){}\n",
    "Animal.prototype.species = \"动物\";\n",
    "\n",
    "// 此函数将父对象的 prototype 对象中的属性，一一拷贝给 Child 对象的 prototype 对象。\n",
    "function extend2(Child, Parent) {\n",
    "  let p = Parent.prototype;\n",
    "  let c = Child.prototype;\n",
    "  for (let i in p) {\n",
    "    c[i] = p[i];\n",
    "  }\n",
    "  c.uber = p;\n",
    "}\n",
    "\n",
    "// 使用此函数实现继承\n",
    "extend2(Cat, Animal);\n",
    "let cat2 = new Cat(\"大毛\",\"黄色\");\n",
    "console.log(cat2.species); // 动物"
   ]
  },
  {
   "cell_type": "markdown",
   "metadata": {},
   "source": [
    "## 参考"
   ]
  },
  {
   "cell_type": "markdown",
   "metadata": {},
   "source": [
    "- [Javascript继承机制的设计思想](http://www.ruanyifeng.com/blog/2011/06/designing_ideas_of_inheritance_mechanism_in_javascript.html)\n",
    "- [Javascript 面向对象编程（一）：封装](http://www.ruanyifeng.com/blog/2010/05/object-oriented_javascript_encapsulation.html)\n",
    "- [Javascript面向对象编程（二）：构造函数的继承](http://www.ruanyifeng.com/blog/2010/05/object-oriented_javascript_inheritance.html)\n",
    "- [Javascript面向对象编程（三）：非构造函数的继承](http://www.ruanyifeng.com/blog/2010/05/object-oriented_javascript_inheritance_continued.html)\n",
    "- [ECMAScript 6实现了class，对JavaScript前端开发有什么意义？](https://www.zhihu.com/question/29789315/answer/51894352)"
   ]
  },
  {
   "cell_type": "code",
   "execution_count": null,
   "metadata": {},
   "outputs": [],
   "source": []
  }
 ],
 "metadata": {
  "kernelspec": {
   "display_name": "Javascript (Node.js)",
   "language": "javascript",
   "name": "javascript"
  },
  "language_info": {
   "file_extension": ".js",
   "mimetype": "application/javascript",
   "name": "javascript",
   "version": "12.18.4"
  }
 },
 "nbformat": 4,
 "nbformat_minor": 4
}
