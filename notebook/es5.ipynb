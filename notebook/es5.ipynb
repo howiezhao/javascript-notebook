{
 "cells": [
  {
   "cell_type": "markdown",
   "metadata": {},
   "source": [
    "# ES5 语法"
   ]
  },
  {
   "cell_type": "markdown",
   "metadata": {},
   "source": [
    "## 严格模式（现代模式）"
   ]
  },
  {
   "cell_type": "markdown",
   "metadata": {},
   "source": [
    "使用 `\"use strict\";` 可以激活 ES5 之后加入的新特性，当它处于脚本文件的**顶部**时（只有注释可以出现在 `\"use strict\";` 的上面），则整个脚本文件都将以“现代”（严格）模式进行工作。\n",
    "\n",
    "同样，`\"use strict\";` 也可以被放在函数体的开头，这样则可以只在该函数中启用严格模式。\n",
    "\n",
    "没有类似于 `\"no use strict\";` 这样的指令可以使程序返回默认模式。一旦进入了严格模式，就没有回头路了。\n",
    "\n",
    "现代 JavaScript 支持 “classes” 和 “modules”，它们会自动启用 use strict。因此，如果我们使用它们，则无需添加 `\"use strict\";` 指令。"
   ]
  },
  {
   "cell_type": "code",
   "execution_count": 1,
   "metadata": {},
   "outputs": [
    {
     "ename": "ReferenceError",
     "evalue": "a is not defined",
     "output_type": "error",
     "traceback": [
      "evalmachine.<anonymous>:3",
      "a = 1;",
      "  ^",
      "",
      "ReferenceError: a is not defined",
      "    at evalmachine.<anonymous>:3:3",
      "    at Script.runInThisContext (vm.js:120:18)",
      "    at Object.runInThisContext (vm.js:309:38)",
      "    at run ([eval]:1054:15)",
      "    at onRunRequest ([eval]:888:18)",
      "    at onMessage ([eval]:848:13)",
      "    at process.emit (events.js:315:20)",
      "    at emit (internal/child_process.js:876:12)",
      "    at processTicksAndRejections (internal/process/task_queues.js:85:21)"
     ]
    }
   ],
   "source": [
    "\"use strict\";\n",
    "\n",
    "a = 1;"
   ]
  },
  {
   "cell_type": "markdown",
   "metadata": {},
   "source": [
    "参考：\n",
    "\n",
    "- [MDN](https://developer.mozilla.org/zh-CN/docs/Web/JavaScript/Reference/Strict_mode)\n",
    "- [Javascript 严格模式详解](https://www.ruanyifeng.com/blog/2013/01/javascript_strict_mode.html)\n"
   ]
  },
  {
   "cell_type": "markdown",
   "metadata": {},
   "source": [
    "## `Object.defineProperty()`"
   ]
  },
  {
   "cell_type": "markdown",
   "metadata": {},
   "source": [
    "`Object.defineProperty()` 方法会直接在一个对象上定义一个新属性，或者修改一个对象的现有属性，并返回此对象。\n",
    "\n",
    "详情参考 [MDN](https://developer.mozilla.org/zh-CN/docs/Web/JavaScript/Reference/Global_Objects/Object/defineProperty)"
   ]
  },
  {
   "cell_type": "code",
   "execution_count": 1,
   "metadata": {},
   "outputs": [
    {
     "ename": "Error",
     "evalue": "csrf is no longer bundled with Express",
     "output_type": "error",
     "traceback": [
      "evalmachine.<anonymous>:3",
      "    throw new Error('csrf is no longer bundled with Express');",
      "    ^",
      "",
      "Error: csrf is no longer bundled with Express",
      "    at Object.get (evalmachine.<anonymous>:3:11)",
      "    at evalmachine.<anonymous>:8:9",
      "    at Script.runInThisContext (vm.js:120:18)",
      "    at Object.runInThisContext (vm.js:309:38)",
      "    at run ([eval]:1054:15)",
      "    at onRunRequest ([eval]:888:18)",
      "    at onMessage ([eval]:848:13)",
      "    at process.emit (events.js:315:20)",
      "    at emit (internal/child_process.js:876:12)",
      "    at processTicksAndRejections (internal/process/task_queues.js:85:21)"
     ]
    }
   ],
   "source": [
    "Object.defineProperty(exports, 'csrf', {\n",
    "  get: function () {\n",
    "    throw new Error('csrf is no longer bundled with Express');\n",
    "  },\n",
    "  configurable: true\n",
    "});\n",
    "\n",
    "exports.csrf()"
   ]
  },
  {
   "cell_type": "markdown",
   "metadata": {},
   "source": [
    "## `Object.create()`"
   ]
  },
  {
   "cell_type": "markdown",
   "metadata": {},
   "source": [
    "`Object.create()` 方法创建一个新对象，使用现有的对象来提供新创建的对象的 `__proto__`。\n",
    "\n",
    "详情参考 [MDN](https://developer.mozilla.org/zh-CN/docs/Web/JavaScript/Reference/Global_Objects/Object/create)"
   ]
  },
  {
   "cell_type": "code",
   "execution_count": 2,
   "metadata": {},
   "outputs": [
    {
     "name": "stdout",
     "output_type": "stream",
     "text": [
      "{}\n",
      "2\n",
      "1\n"
     ]
    }
   ],
   "source": [
    "prototypeObject = {a: 1};\n",
    "\n",
    "obj = Object.create(prototypeObject, {\n",
    "  b: {\n",
    "    writable: true,\n",
    "    configurable: true,\n",
    "    value: 2\n",
    "  }\n",
    "});\n",
    "\n",
    "console.log(obj)\n",
    "console.log(obj.b)\n",
    "console.log(obj.a)"
   ]
  },
  {
   "cell_type": "code",
   "execution_count": null,
   "metadata": {},
   "outputs": [],
   "source": []
  }
 ],
 "metadata": {
  "kernelspec": {
   "display_name": "Javascript (Node.js)",
   "language": "javascript",
   "name": "javascript"
  },
  "language_info": {
   "file_extension": ".js",
   "mimetype": "application/javascript",
   "name": "javascript",
   "version": "12.18.4"
  }
 },
 "nbformat": 4,
 "nbformat_minor": 4
}
