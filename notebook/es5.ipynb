{
 "cells": [
  {
   "cell_type": "markdown",
   "metadata": {},
   "source": [
    "# ES5 语法"
   ]
  },
  {
   "cell_type": "markdown",
   "metadata": {},
   "source": [
    "## 严格模式（现代模式）"
   ]
  },
  {
   "cell_type": "markdown",
   "metadata": {},
   "source": [
    "使用 `\"use strict\";` 可以激活 ES5 之后加入的新特性，当它处于脚本文件的**顶部**时（只有注释可以出现在 `\"use strict\";` 的上面），则整个脚本文件都将以“现代”（严格）模式进行工作。\n",
    "\n",
    "同样，`\"use strict\";` 也可以被放在函数体的开头，这样则可以只在该函数中启用严格模式。\n",
    "\n",
    "没有类似于 `\"no use strict\";` 这样的指令可以使程序返回默认模式。一旦进入了严格模式，就没有回头路了。\n",
    "\n",
    "现代 JavaScript 支持 “classes” 和 “modules”，它们会自动启用 use strict。因此，如果我们使用它们，则无需添加 `\"use strict\";` 指令。"
   ]
  },
  {
   "cell_type": "code",
   "execution_count": null,
   "metadata": {},
   "outputs": [],
   "source": []
  }
 ],
 "metadata": {
  "kernelspec": {
   "display_name": "Javascript (Node.js)",
   "language": "javascript",
   "name": "javascript"
  },
  "language_info": {
   "file_extension": ".js",
   "mimetype": "application/javascript",
   "name": "javascript",
   "version": "12.18.4"
  }
 },
 "nbformat": 4,
 "nbformat_minor": 4
}
