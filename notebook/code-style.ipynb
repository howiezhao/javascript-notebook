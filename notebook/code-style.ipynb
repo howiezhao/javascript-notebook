{
 "cells": [
  {
   "cell_type": "markdown",
   "metadata": {},
   "source": [
    "# 代码风格"
   ]
  },
  {
   "cell_type": "markdown",
   "metadata": {},
   "source": [
    "## 分号"
   ]
  },
  {
   "cell_type": "markdown",
   "metadata": {},
   "source": [
    "最好不要省略分号"
   ]
  },
  {
   "cell_type": "markdown",
   "metadata": {},
   "source": [
    "## 命名"
   ]
  },
  {
   "cell_type": "markdown",
   "metadata": {},
   "source": [
    "变量的命名通常采用驼峰式命名法（camelCase）。\n",
    "\n",
    "硬编码（hard-coded）的常量值采用大写，否则采用常规命名。"
   ]
  },
  {
   "cell_type": "code",
   "execution_count": null,
   "metadata": {},
   "outputs": [],
   "source": []
  }
 ],
 "metadata": {
  "kernelspec": {
   "display_name": "Javascript (Node.js)",
   "language": "javascript",
   "name": "javascript"
  },
  "language_info": {
   "file_extension": ".js",
   "mimetype": "application/javascript",
   "name": "javascript",
   "version": "12.18.4"
  }
 },
 "nbformat": 4,
 "nbformat_minor": 4
}
