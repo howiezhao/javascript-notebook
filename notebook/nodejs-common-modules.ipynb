{
 "cells": [
  {
   "cell_type": "markdown",
   "metadata": {},
   "source": [
    "# Node.js 常用模块"
   ]
  },
  {
   "cell_type": "markdown",
   "metadata": {},
   "source": [
    "## `path`"
   ]
  },
  {
   "cell_type": "markdown",
   "metadata": {},
   "source": [
    "`path` 模块提供了用于处理文件和目录路径的实用程序。如下："
   ]
  },
  {
   "cell_type": "code",
   "execution_count": 1,
   "metadata": {
    "ExecuteTime": {
     "end_time": "2020-09-29T15:30:51.573731Z",
     "start_time": "2020-09-29T15:30:51.551Z"
    }
   },
   "outputs": [
    {
     "name": "stdout",
     "output_type": "stream",
     "text": [
      "C:\\Users\\howie\\Desktop\\github\\javascript-notebook\\notebook\\views\n"
     ]
    }
   ],
   "source": [
    "const path = require('path');\n",
    "\n",
    "console.log(path.resolve('views'));"
   ]
  },
  {
   "cell_type": "markdown",
   "metadata": {},
   "source": [
    "## `http`"
   ]
  },
  {
   "cell_type": "markdown",
   "metadata": {},
   "source": [
    "`http` 模块提供了用于处理 HTTP 请求相关的功能，如下："
   ]
  },
  {
   "cell_type": "code",
   "execution_count": 2,
   "metadata": {
    "ExecuteTime": {
     "end_time": "2020-09-29T15:33:52.027915Z",
     "start_time": "2020-09-29T15:33:51.999Z"
    }
   },
   "outputs": [
    {
     "name": "stdout",
     "output_type": "stream",
     "text": [
      "Server running at http://127.0.0.1:8888/\n"
     ]
    }
   ],
   "source": [
    "const http = require('http');\n",
    "\n",
    "http.createServer((req, res) => {\n",
    "  res.writeHead(200, {'Content-Type': 'text/plain'});\n",
    "  res.end('Hello World\\n');\n",
    "}).listen(8888);\n",
    "\n",
    "console.log('Server running at http://127.0.0.1:8888/');"
   ]
  },
  {
   "cell_type": "markdown",
   "metadata": {},
   "source": [
    "## `events`"
   ]
  },
  {
   "cell_type": "markdown",
   "metadata": {},
   "source": [
    "EventEmitter"
   ]
  },
  {
   "cell_type": "code",
   "execution_count": null,
   "metadata": {},
   "outputs": [],
   "source": []
  }
 ],
 "metadata": {
  "kernelspec": {
   "display_name": "Javascript (Node.js)",
   "language": "javascript",
   "name": "javascript"
  },
  "language_info": {
   "file_extension": ".js",
   "mimetype": "application/javascript",
   "name": "javascript",
   "version": "8.9.3"
  }
 },
 "nbformat": 4,
 "nbformat_minor": 4
}
