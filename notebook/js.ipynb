{
 "cells": [
  {
   "cell_type": "markdown",
   "metadata": {
    "ExecuteTime": {
     "end_time": "2020-09-29T14:58:32.848764Z",
     "start_time": "2020-09-29T14:58:32.822Z"
    }
   },
   "source": [
    "# JavaScript 基础"
   ]
  },
  {
   "cell_type": "markdown",
   "metadata": {},
   "source": [
    "## 变量"
   ]
  },
  {
   "cell_type": "markdown",
   "metadata": {},
   "source": [
    "`var` 是老旧的变量声明方式，`let` 是现代的变量声明方式，定义变量尽量用 `let`。\n",
    "\n",
    "参考：\n",
    "\n",
    "- [MDN: let](https://developer.mozilla.org/zh-CN/docs/Web/JavaScript/Reference/Statements/let)\n",
    "- [MDN: var](https://developer.mozilla.org/zh-CN/docs/Web/JavaScript/Reference/Statements/var)"
   ]
  },
  {
   "cell_type": "code",
   "execution_count": 6,
   "metadata": {
    "ExecuteTime": {
     "end_time": "2020-09-29T15:04:32.386781Z",
     "start_time": "2020-09-29T15:04:32.367Z"
    }
   },
   "outputs": [
    {
     "data": {
      "text/plain": [
       "123"
      ]
     },
     "execution_count": 6,
     "metadata": {},
     "output_type": "execute_result"
    }
   ],
   "source": [
    "// 局部变量\n",
    "var a = 123;\n",
    "let b = 123;\n",
    "\n",
    "// 全局变量\n",
    "c = 123"
   ]
  },
  {
   "cell_type": "markdown",
   "metadata": {},
   "source": [
    "## 常量"
   ]
  },
  {
   "cell_type": "markdown",
   "metadata": {},
   "source": [
    "参考 [MDN: const](https://developer.mozilla.org/zh-CN/docs/Web/JavaScript/Reference/Statements/const)"
   ]
  },
  {
   "cell_type": "code",
   "execution_count": 4,
   "metadata": {},
   "outputs": [
    {
     "name": "stdout",
     "output_type": "stream",
     "text": [
      "123\n"
     ]
    }
   ],
   "source": [
    "const test = 123;\n",
    "console.log(test);"
   ]
  },
  {
   "cell_type": "markdown",
   "metadata": {},
   "source": [
    "## 数据类型"
   ]
  },
  {
   "cell_type": "markdown",
   "metadata": {},
   "source": [
    "在 JavaScript 中有 8 种基本的数据类型，分为 2 种：\n",
    "\n",
    "原始类型：\n",
    "\n",
    "- Number：可以是浮点数，也可以是整数\n",
    "- BigInt：用于任意长度的整数\n",
    "- String：字符串类型\n",
    "- Boolean：逻辑值：`true`/`false`\n",
    "- null：具有单个值 `null` 的类型，表示“空”或“不存在”\n",
    "- undefined：具有单个值 `undefined` 的类型，表示“未分配（未定义）”\n",
    "- symbol：唯一标识符\n",
    "\n",
    "引用类型：\n",
    "\n",
    "- object：复杂的数据结构\n"
   ]
  },
  {
   "cell_type": "markdown",
   "metadata": {},
   "source": [
    "使用 `typeof` 可以判断数据类型："
   ]
  },
  {
   "cell_type": "code",
   "execution_count": 6,
   "metadata": {},
   "outputs": [
    {
     "name": "stdout",
     "output_type": "stream",
     "text": [
      "number\n",
      "bigint\n",
      "string\n",
      "boolean\n",
      "undefined\n",
      "symbol\n",
      "object\n",
      "object\n",
      "function\n"
     ]
    }
   ],
   "source": [
    "console.log(typeof 0)  // \"number\"\n",
    "console.log(typeof 10n)  // \"bigint\"\n",
    "console.log(typeof \"foo\")  // \"string\"\n",
    "console.log(typeof true)  // \"boolean\"\n",
    "console.log(typeof undefined)  // \"undefined\"\n",
    "console.log(typeof Symbol(\"id\"))  // \"symbol\"\n",
    "\n",
    "console.log(typeof Math)  // \"object\"  (1)\n",
    "console.log(typeof null)  // \"object\"  (2)\n",
    "console.log(typeof console.log)  // \"function\"  (3)"
   ]
  },
  {
   "cell_type": "markdown",
   "metadata": {},
   "source": [
    "以上需要注意的是：\n",
    "\n",
    "- `typeof null` 的结果是 `\"object\"`。这是官方承认的 `typeof` 的行为上的错误，这个问题来自于 JavaScript 语言的早期，并为了兼容性而保留了下来。`null` 绝对不是一个 `object`。`null` 有自己的类型，它是一个特殊值。\n",
    "- `typeof console.log` 的结果是 `\"function\"`，因为 `console.log` 在 JavaScript 语言中是一个函数。在 JavaScript 语言中没有一个特别的 `“function”` 类型。函数隶属于 `object` 类型。但是 `typeof` 会对函数区分对待，并返回 `\"function\"`。这也是来自于 JavaScript 语言早期的问题。从技术上讲，这种行为是不正确的，但在实际编程中却非常方便。"
   ]
  },
  {
   "cell_type": "markdown",
   "metadata": {},
   "source": [
    "`==`：比较值相等\n",
    "\n",
    "`===`：比较值和类型相等\n",
    "\n",
    "慎用 `==`"
   ]
  },
  {
   "cell_type": "markdown",
   "metadata": {},
   "source": [
    "## 条件语句"
   ]
  },
  {
   "cell_type": "markdown",
   "metadata": {},
   "source": [
    "`if`："
   ]
  },
  {
   "cell_type": "code",
   "execution_count": 1,
   "metadata": {},
   "outputs": [
    {
     "name": "stdout",
     "output_type": "stream",
     "text": [
      "2020\n"
     ]
    }
   ],
   "source": [
    "const year = 2020;\n",
    "\n",
    "if (year === 2020) {\n",
    "  console.log('2020');\n",
    "} else if (year === 2019) {\n",
    "  console.log('2019');\n",
    "} else {\n",
    "  console.log('None');\n",
    "}"
   ]
  },
  {
   "cell_type": "markdown",
   "metadata": {},
   "source": [
    "三元运算符："
   ]
  },
  {
   "cell_type": "code",
   "execution_count": 2,
   "metadata": {},
   "outputs": [
    {
     "name": "stdout",
     "output_type": "stream",
     "text": [
      "yes\n"
     ]
    }
   ],
   "source": [
    "const age = 19;\n",
    "\n",
    "let accessAllowed = age > 18 ? 'yes' : 'no';\n",
    "\n",
    "console.log(accessAllowed);"
   ]
  },
  {
   "cell_type": "markdown",
   "metadata": {},
   "source": [
    "`switch` 语句："
   ]
  },
  {
   "cell_type": "code",
   "execution_count": 6,
   "metadata": {},
   "outputs": [
    {
     "name": "stdout",
     "output_type": "stream",
     "text": [
      "Exactly!\n"
     ]
    }
   ],
   "source": [
    "let num = 2 + 2;\n",
    "\n",
    "switch (num) {\n",
    "  case 3:\n",
    "    console.log( 'Too small' );\n",
    "    break;\n",
    "  case 4:\n",
    "    console.log( 'Exactly!' );\n",
    "    break;\n",
    "  case 5:\n",
    "    console.log( 'Too large' );\n",
    "    break;\n",
    "  default:\n",
    "    console.log( \"I don't know such values\" );\n",
    "}"
   ]
  },
  {
   "cell_type": "markdown",
   "metadata": {},
   "source": [
    "## 循环语句"
   ]
  },
  {
   "cell_type": "markdown",
   "metadata": {},
   "source": [
    "`for` 循环："
   ]
  },
  {
   "cell_type": "code",
   "execution_count": 2,
   "metadata": {
    "ExecuteTime": {
     "end_time": "2020-09-29T15:07:38.557261Z",
     "start_time": "2020-09-29T15:07:38.535Z"
    }
   },
   "outputs": [
    {
     "name": "stdout",
     "output_type": "stream",
     "text": [
      "0\n",
      "1\n",
      "2\n",
      "3\n",
      "0 11\n",
      "1 22\n",
      "2 33\n",
      "3 44\n"
     ]
    }
   ],
   "source": [
    "li = [11, 22, 33, 44];\n",
    "for(let i = 0; i < li.length; i++) {\n",
    "    console.log(i);\n",
    "}\n",
    "\n",
    "for(let item in li) {\n",
    "    console.log(item, li[item]);\n",
    "}"
   ]
  },
  {
   "cell_type": "markdown",
   "metadata": {},
   "source": [
    "`while` 循环："
   ]
  },
  {
   "cell_type": "code",
   "execution_count": 1,
   "metadata": {},
   "outputs": [
    {
     "name": "stdout",
     "output_type": "stream",
     "text": [
      "0\n",
      "1\n",
      "2\n"
     ]
    },
    {
     "data": {
      "text/plain": [
       "2"
      ]
     },
     "execution_count": 1,
     "metadata": {},
     "output_type": "execute_result"
    }
   ],
   "source": [
    "let i = 0;\n",
    "\n",
    "while (i < 3) { // 依次显示 0、1 和 2\n",
    "  console.log(i);\n",
    "  i++;\n",
    "}"
   ]
  },
  {
   "cell_type": "markdown",
   "metadata": {},
   "source": [
    "`do..while` 循环："
   ]
  },
  {
   "cell_type": "code",
   "execution_count": 3,
   "metadata": {},
   "outputs": [
    {
     "name": "stdout",
     "output_type": "stream",
     "text": [
      "3\n",
      "3\n",
      "3\n"
     ]
    },
    {
     "data": {
      "text/plain": [
       "2"
      ]
     },
     "execution_count": 3,
     "metadata": {},
     "output_type": "execute_result"
    }
   ],
   "source": [
    "let j = 0;\n",
    "\n",
    "do {\n",
    "  console.log(i);\n",
    "  j++;\n",
    "} while (j < 3);"
   ]
  },
  {
   "cell_type": "markdown",
   "metadata": {},
   "source": [
    "## 异常"
   ]
  },
  {
   "cell_type": "markdown",
   "metadata": {},
   "source": [
    "## 函数"
   ]
  },
  {
   "cell_type": "markdown",
   "metadata": {},
   "source": [
    "通过**函数声明**（在主代码流中声明为单独的语句的函数）创建函数："
   ]
  },
  {
   "cell_type": "code",
   "execution_count": 3,
   "metadata": {
    "ExecuteTime": {
     "end_time": "2020-09-29T15:08:51.735269Z",
     "start_time": "2020-09-29T15:08:51.725Z"
    }
   },
   "outputs": [],
   "source": [
    "function func(arg){\n",
    "    return true;\n",
    "}"
   ]
  },
  {
   "cell_type": "markdown",
   "metadata": {},
   "source": [
    "在函数声明被定义之前，它就可以被调用。\n",
    "\n",
    "严格模式下，当一个函数声明在一个代码块内时，它在该代码块内的任何位置都是可见的。但在代码块外不可见。"
   ]
  },
  {
   "cell_type": "markdown",
   "metadata": {},
   "source": [
    "通过**函数表达式**（在一个表达式中或另一个语法结构中创建的函数）创建函数："
   ]
  },
  {
   "cell_type": "code",
   "execution_count": 4,
   "metadata": {
    "ExecuteTime": {
     "end_time": "2020-09-29T15:09:17.749262Z",
     "start_time": "2020-09-29T15:09:17.739Z"
    }
   },
   "outputs": [],
   "source": [
    "let func = function(arg){\n",
    "    return \"tony\";\n",
    "};"
   ]
  },
  {
   "cell_type": "markdown",
   "metadata": {},
   "source": [
    "函数表达式是在代码执行到达时被创建，并且仅从那一刻起可用。"
   ]
  },
  {
   "cell_type": "markdown",
   "metadata": {},
   "source": [
    "**自执行函数**："
   ]
  },
  {
   "cell_type": "code",
   "execution_count": 5,
   "metadata": {
    "ExecuteTime": {
     "end_time": "2020-09-29T15:09:48.360262Z",
     "start_time": "2020-09-29T15:09:48.349Z"
    }
   },
   "outputs": [
    {
     "name": "stdout",
     "output_type": "stream",
     "text": [
      "123\n"
     ]
    }
   ],
   "source": [
    "(function(arg){\n",
    "    console.log(arg);\n",
    "})('123')"
   ]
  },
  {
   "cell_type": "markdown",
   "metadata": {},
   "source": [
    "## 作用域"
   ]
  },
  {
   "cell_type": "markdown",
   "metadata": {},
   "source": [
    "## 闭包"
   ]
  },
  {
   "cell_type": "code",
   "execution_count": null,
   "metadata": {},
   "outputs": [],
   "source": []
  }
 ],
 "metadata": {
  "kernelspec": {
   "display_name": "Javascript (Node.js)",
   "language": "javascript",
   "name": "javascript"
  },
  "language_info": {
   "file_extension": ".js",
   "mimetype": "application/javascript",
   "name": "javascript",
   "version": "12.18.4"
  }
 },
 "nbformat": 4,
 "nbformat_minor": 4
}
