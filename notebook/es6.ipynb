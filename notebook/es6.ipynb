{
 "cells": [
  {
   "cell_type": "markdown",
   "metadata": {},
   "source": [
    "# ES6 语法"
   ]
  },
  {
   "cell_type": "markdown",
   "metadata": {},
   "source": [
    "## 模版字符串"
   ]
  },
  {
   "cell_type": "markdown",
   "metadata": {},
   "source": [
    "参考 [MDN](https://developer.mozilla.org/zh-CN/docs/Web/JavaScript/Reference/template_strings)"
   ]
  },
  {
   "cell_type": "code",
   "execution_count": 1,
   "metadata": {},
   "outputs": [
    {
     "name": "stdout",
     "output_type": "stream",
     "text": [
      "His name is jack\n"
     ]
    }
   ],
   "source": [
    "const name = 'jack';\n",
    "\n",
    "console.log(`His name is ${name}`);"
   ]
  },
  {
   "cell_type": "markdown",
   "metadata": {},
   "source": [
    "## 解构赋值"
   ]
  },
  {
   "cell_type": "markdown",
   "metadata": {},
   "source": [
    "参考 [MDN](https://developer.mozilla.org/zh-CN/docs/Web/JavaScript/Reference/Operators/Destructuring_assignment)"
   ]
  },
  {
   "cell_type": "code",
   "execution_count": 1,
   "metadata": {
    "ExecuteTime": {
     "end_time": "2020-09-29T16:03:27.434034Z",
     "start_time": "2020-09-29T16:03:27.412Z"
    }
   },
   "outputs": [
    {
     "name": "stdout",
     "output_type": "stream",
     "text": [
      "1\n"
     ]
    }
   ],
   "source": [
    "const dic1 = {\n",
    "  'a': 1,\n",
    "  'b': 2,\n",
    "  'c': 3,\n",
    "};\n",
    "\n",
    "const { a } = dic1;\n",
    "\n",
    "console.log(a);"
   ]
  },
  {
   "cell_type": "markdown",
   "metadata": {},
   "source": [
    "## 扩展（展开）运算符"
   ]
  },
  {
   "cell_type": "markdown",
   "metadata": {},
   "source": [
    "参考 [MDN](https://developer.mozilla.org/zh-CN/docs/Web/JavaScript/Reference/Operators/Spread_syntax)"
   ]
  },
  {
   "cell_type": "code",
   "execution_count": 2,
   "metadata": {
    "ExecuteTime": {
     "end_time": "2020-09-29T16:03:30.159034Z",
     "start_time": "2020-09-29T16:03:30.142Z"
    }
   },
   "outputs": [
    {
     "name": "stdout",
     "output_type": "stream",
     "text": [
      "{ a: 1, b: 2, c: 3 }\n"
     ]
    }
   ],
   "source": [
    "const dic2 = {\n",
    "  'a': 1,\n",
    "  'b': 2,\n",
    "  'c': 3,\n",
    "};\n",
    "\n",
    "const result = { ...dic2 };\n",
    "\n",
    "console.log(result);"
   ]
  },
  {
   "cell_type": "markdown",
   "metadata": {},
   "source": [
    "## 箭头函数"
   ]
  },
  {
   "cell_type": "markdown",
   "metadata": {},
   "source": [
    "参考 [MDN](https://developer.mozilla.org/zh-CN/docs/Web/JavaScript/Reference/Functions/Arrow_functions)"
   ]
  },
  {
   "cell_type": "code",
   "execution_count": 1,
   "metadata": {
    "ExecuteTime": {
     "end_time": "2020-09-29T16:03:32.529032Z",
     "start_time": "2020-09-29T16:03:32.519Z"
    }
   },
   "outputs": [
    {
     "name": "stdout",
     "output_type": "stream",
     "text": [
      "3\n",
      "3\n",
      "6\n",
      "Hello!\n"
     ]
    }
   ],
   "source": [
    "let sum1 = (a, b) => a + b;\n",
    "\n",
    "/* 这个箭头函数是下面这个函数的更短的版本：\n",
    "\n",
    "let sum1 = function(a, b) {\n",
    "  return a + b;\n",
    "};\n",
    "*/\n",
    "\n",
    "let sum2 = (a, b) => {  // 花括号表示开始一个多行函数\n",
    "  let result = a + b;\n",
    "  return result; // 如果我们使用了花括号，那么我们需要一个显式的 “return”\n",
    "};\n",
    "\n",
    "let double = n => n * 2;\n",
    "\n",
    "// 差不多等同于：let double = function(n) { return n * 2 }\n",
    "\n",
    "let sayHi = () => console.log(\"Hello!\");\n",
    "\n",
    "console.log( sum1(1, 2) ); // 3\n",
    "console.log( sum2(1, 2) ); // 3\n",
    "console.log( double(3) ); // 6\n",
    "sayHi();"
   ]
  },
  {
   "cell_type": "markdown",
   "metadata": {},
   "source": [
    "## 生成器"
   ]
  },
  {
   "cell_type": "markdown",
   "metadata": {},
   "source": [
    "参考 [MDN](https://developer.mozilla.org/zh-CN/docs/Web/JavaScript/Guide/Iterators_and_Generators)"
   ]
  },
  {
   "cell_type": "markdown",
   "metadata": {},
   "source": [
    "## 参考"
   ]
  },
  {
   "cell_type": "markdown",
   "metadata": {},
   "source": [
    "- [ES6 入门教程](https://es6.ruanyifeng.com/)"
   ]
  },
  {
   "cell_type": "code",
   "execution_count": null,
   "metadata": {},
   "outputs": [],
   "source": []
  }
 ],
 "metadata": {
  "kernelspec": {
   "display_name": "Javascript (Node.js)",
   "language": "javascript",
   "name": "javascript"
  },
  "language_info": {
   "file_extension": ".js",
   "mimetype": "application/javascript",
   "name": "javascript",
   "version": "12.18.4"
  }
 },
 "nbformat": 4,
 "nbformat_minor": 4
}
