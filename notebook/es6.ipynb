{
 "cells": [
  {
   "cell_type": "markdown",
   "metadata": {},
   "source": [
    "# ES6 语法"
   ]
  },
  {
   "cell_type": "markdown",
   "metadata": {},
   "source": [
    "## 模版字符串"
   ]
  },
  {
   "cell_type": "markdown",
   "metadata": {},
   "source": [
    "参考 [MDN](https://developer.mozilla.org/zh-CN/docs/Web/JavaScript/Reference/template_strings)"
   ]
  },
  {
   "cell_type": "code",
   "execution_count": 1,
   "metadata": {},
   "outputs": [
    {
     "name": "stdout",
     "output_type": "stream",
     "text": [
      "His name is jack\n"
     ]
    }
   ],
   "source": [
    "const name = 'jack';\n",
    "\n",
    "console.log(`His name is ${name}`);"
   ]
  },
  {
   "cell_type": "markdown",
   "metadata": {},
   "source": [
    "## 解构赋值"
   ]
  },
  {
   "cell_type": "markdown",
   "metadata": {},
   "source": [
    "参考 [MDN](https://developer.mozilla.org/zh-CN/docs/Web/JavaScript/Reference/Operators/Destructuring_assignment)"
   ]
  },
  {
   "cell_type": "code",
   "execution_count": 1,
   "metadata": {
    "ExecuteTime": {
     "end_time": "2020-09-29T16:03:27.434034Z",
     "start_time": "2020-09-29T16:03:27.412Z"
    }
   },
   "outputs": [
    {
     "name": "stdout",
     "output_type": "stream",
     "text": [
      "1\n"
     ]
    }
   ],
   "source": [
    "const dic1 = {\n",
    "  'a': 1,\n",
    "  'b': 2,\n",
    "  'c': 3,\n",
    "};\n",
    "\n",
    "const { a } = dic1;\n",
    "\n",
    "console.log(a);"
   ]
  },
  {
   "cell_type": "markdown",
   "metadata": {},
   "source": [
    "## 扩展（展开）运算符"
   ]
  },
  {
   "cell_type": "markdown",
   "metadata": {},
   "source": [
    "参考 [MDN](https://developer.mozilla.org/zh-CN/docs/Web/JavaScript/Reference/Operators/Spread_syntax)"
   ]
  },
  {
   "cell_type": "code",
   "execution_count": 2,
   "metadata": {
    "ExecuteTime": {
     "end_time": "2020-09-29T16:03:30.159034Z",
     "start_time": "2020-09-29T16:03:30.142Z"
    }
   },
   "outputs": [
    {
     "name": "stdout",
     "output_type": "stream",
     "text": [
      "{ a: 1, b: 2, c: 3 }\n"
     ]
    }
   ],
   "source": [
    "const dic2 = {\n",
    "  'a': 1,\n",
    "  'b': 2,\n",
    "  'c': 3,\n",
    "};\n",
    "\n",
    "const result = { ...dic2 };\n",
    "\n",
    "console.log(result);"
   ]
  },
  {
   "cell_type": "markdown",
   "metadata": {},
   "source": [
    "## 箭头函数"
   ]
  },
  {
   "cell_type": "markdown",
   "metadata": {},
   "source": [
    "参考 [MDN](https://developer.mozilla.org/zh-CN/docs/Web/JavaScript/Reference/Functions/Arrow_functions)"
   ]
  },
  {
   "cell_type": "code",
   "execution_count": 1,
   "metadata": {
    "ExecuteTime": {
     "end_time": "2020-09-29T16:03:32.529032Z",
     "start_time": "2020-09-29T16:03:32.519Z"
    }
   },
   "outputs": [
    {
     "name": "stdout",
     "output_type": "stream",
     "text": [
      "3\n",
      "3\n",
      "6\n",
      "Hello!\n"
     ]
    }
   ],
   "source": [
    "let sum1 = (a, b) => a + b;\n",
    "\n",
    "/* 这个箭头函数是下面这个函数的更短的版本：\n",
    "\n",
    "let sum1 = function(a, b) {\n",
    "  return a + b;\n",
    "};\n",
    "*/\n",
    "\n",
    "let sum2 = (a, b) => {  // 花括号表示开始一个多行函数\n",
    "  let result = a + b;\n",
    "  return result; // 如果我们使用了花括号，那么我们需要一个显式的 “return”\n",
    "};\n",
    "\n",
    "let double = n => n * 2;\n",
    "\n",
    "// 差不多等同于：let double = function(n) { return n * 2 }\n",
    "\n",
    "let sayHi = () => console.log(\"Hello!\");\n",
    "\n",
    "console.log( sum1(1, 2) ); // 3\n",
    "console.log( sum2(1, 2) ); // 3\n",
    "console.log( double(3) ); // 6\n",
    "sayHi();"
   ]
  },
  {
   "cell_type": "markdown",
   "metadata": {},
   "source": [
    "## 生成器"
   ]
  },
  {
   "cell_type": "markdown",
   "metadata": {},
   "source": [
    "参考 [MDN](https://developer.mozilla.org/zh-CN/docs/Web/JavaScript/Guide/Iterators_and_Generators)"
   ]
  },
  {
   "cell_type": "markdown",
   "metadata": {},
   "source": [
    "## `Object.defineProperty()`"
   ]
  },
  {
   "cell_type": "markdown",
   "metadata": {},
   "source": [
    "`Object.defineProperty()` 方法会直接在一个对象上定义一个新属性，或者修改一个对象的现有属性，并返回此对象。\n",
    "\n",
    "详情参考 [MDN](https://developer.mozilla.org/zh-CN/docs/Web/JavaScript/Reference/Global_Objects/Object/defineProperty)"
   ]
  },
  {
   "cell_type": "code",
   "execution_count": 4,
   "metadata": {
    "ExecuteTime": {
     "end_time": "2020-09-29T16:03:36.699035Z",
     "start_time": "2020-09-29T16:03:36.688Z"
    }
   },
   "outputs": [
    {
     "ename": "Error",
     "evalue": "csrf is no longer bundled with Express",
     "output_type": "error",
     "traceback": [
      "evalmachine.<anonymous>:3",
      "    throw new Error('csrf is no longer bundled with Express');",
      "    ^",
      "",
      "Error: csrf is no longer bundled with Express",
      "    at Object.get (evalmachine.<anonymous>:3:11)",
      "    at evalmachine.<anonymous>:8:9",
      "    at ContextifyScript.Script.runInThisContext (vm.js:50:33)",
      "    at Object.runInThisContext (vm.js:139:38)",
      "    at run ([eval]:1054:15)",
      "    at onRunRequest ([eval]:888:18)",
      "    at onMessage ([eval]:848:13)",
      "    at emitTwo (events.js:126:13)",
      "    at process.emit (events.js:214:7)",
      "    at emit (internal/child_process.js:772:12)"
     ]
    }
   ],
   "source": [
    "Object.defineProperty(exports, 'csrf', {\n",
    "  get: function () {\n",
    "    throw new Error('csrf is no longer bundled with Express');\n",
    "  },\n",
    "  configurable: true\n",
    "});\n",
    "\n",
    "exports.csrf()"
   ]
  },
  {
   "cell_type": "markdown",
   "metadata": {},
   "source": [
    "## `Object.create()`"
   ]
  },
  {
   "cell_type": "markdown",
   "metadata": {
    "ExecuteTime": {
     "end_time": "2020-09-29T15:50:41.682047Z",
     "start_time": "2020-09-29T15:50:41.672Z"
    }
   },
   "source": [
    "`Object.create()` 方法创建一个新对象，使用现有的对象来提供新创建的对象的 `__proto__`。\n",
    "\n",
    "详情参考 [MDN](https://developer.mozilla.org/zh-CN/docs/Web/JavaScript/Reference/Global_Objects/Object/create)"
   ]
  },
  {
   "cell_type": "code",
   "execution_count": 5,
   "metadata": {
    "ExecuteTime": {
     "end_time": "2020-09-29T16:03:39.946034Z",
     "start_time": "2020-09-29T16:03:39.936Z"
    }
   },
   "outputs": [
    {
     "name": "stdout",
     "output_type": "stream",
     "text": [
      "{}\n",
      "2\n",
      "1\n"
     ]
    }
   ],
   "source": [
    "prototypeObject = {a: 1};\n",
    "\n",
    "obj = Object.create(prototypeObject, {\n",
    "  b: {\n",
    "    writable: true,\n",
    "    configurable: true,\n",
    "    value: 2\n",
    "  }\n",
    "});\n",
    "\n",
    "console.log(obj)\n",
    "console.log(obj.b)\n",
    "console.log(obj.a)"
   ]
  },
  {
   "cell_type": "markdown",
   "metadata": {},
   "source": [
    "## 参考"
   ]
  },
  {
   "cell_type": "markdown",
   "metadata": {},
   "source": [
    "- [ES6 入门教程](https://es6.ruanyifeng.com/)"
   ]
  },
  {
   "cell_type": "code",
   "execution_count": null,
   "metadata": {},
   "outputs": [],
   "source": []
  }
 ],
 "metadata": {
  "kernelspec": {
   "display_name": "Javascript (Node.js)",
   "language": "javascript",
   "name": "javascript"
  },
  "language_info": {
   "file_extension": ".js",
   "mimetype": "application/javascript",
   "name": "javascript",
   "version": "12.18.4"
  }
 },
 "nbformat": 4,
 "nbformat_minor": 4
}
